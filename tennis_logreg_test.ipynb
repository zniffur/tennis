{
 "cells": [
  {
   "cell_type": "code",
   "execution_count": 2,
   "metadata": {
    "ExecuteTime": {
     "end_time": "2020-02-14T11:45:50.797984Z",
     "start_time": "2020-02-14T11:45:50.103221Z"
    }
   },
   "outputs": [],
   "source": [
    "import pandas as pd\n",
    "import numpy as np\n",
    "import matplotlib.pyplot as plt\n",
    "%matplotlib inline"
   ]
  },
  {
   "cell_type": "code",
   "execution_count": 206,
   "metadata": {
    "ExecuteTime": {
     "end_time": "2020-02-14T15:52:41.141423Z",
     "start_time": "2020-02-14T15:52:41.132470Z"
    }
   },
   "outputs": [],
   "source": [
    "from sklearn.preprocessing import label_binarize\n",
    "from sklearn.model_selection import train_test_split\n",
    "from sklearn.linear_model import LogisticRegression"
   ]
  },
  {
   "cell_type": "code",
   "execution_count": 3,
   "metadata": {
    "ExecuteTime": {
     "end_time": "2020-02-14T11:46:27.677628Z",
     "start_time": "2020-02-14T11:46:26.732638Z"
    }
   },
   "outputs": [],
   "source": [
    "df = pd.read_excel('datasets/2012.xls', sep=';')"
   ]
  },
  {
   "cell_type": "code",
   "execution_count": 5,
   "metadata": {
    "ExecuteTime": {
     "end_time": "2020-02-14T11:46:39.347266Z",
     "start_time": "2020-02-14T11:46:39.338287Z"
    },
    "scrolled": false
   },
   "outputs": [
    {
     "data": {
      "text/plain": [
       "Index(['ATP', 'Location', 'Tournament', 'Date', 'Series', 'Court', 'Surface',\n",
       "       'Round', 'Best of', 'Winner', 'Loser', 'WRank', 'LRank', 'WPts', 'LPts',\n",
       "       'W1', 'L1', 'W2', 'L2', 'W3', 'L3', 'W4', 'L4', 'W5', 'L5', 'Wsets',\n",
       "       'Lsets', 'Comment', 'B365W', 'B365L', 'EXW', 'EXL', 'LBW', 'LBL', 'PSW',\n",
       "       'PSL', 'SJW', 'SJL', 'MaxW', 'MaxL', 'AvgW', 'AvgL'],\n",
       "      dtype='object')"
      ]
     },
     "execution_count": 5,
     "metadata": {},
     "output_type": "execute_result"
    }
   ],
   "source": [
    "df.columns"
   ]
  },
  {
   "cell_type": "code",
   "execution_count": 212,
   "metadata": {
    "ExecuteTime": {
     "end_time": "2020-02-14T15:53:36.826222Z",
     "start_time": "2020-02-14T15:53:36.803285Z"
    }
   },
   "outputs": [],
   "source": [
    "df1 = df[['WRank','LRank','WPts','LPts','PSW','PSL']].copy()\n",
    "df1['fav_won'] = df1.WRank < df1.LRank\n",
    "df1.dropna(inplace=True)"
   ]
  },
  {
   "cell_type": "code",
   "execution_count": 213,
   "metadata": {
    "ExecuteTime": {
     "end_time": "2020-02-14T15:53:37.597194Z",
     "start_time": "2020-02-14T15:53:37.568239Z"
    }
   },
   "outputs": [],
   "source": [
    "X = pd.DataFrame(columns=['Fodds','NFodds','Frank','NFrank','Fpts','NFpts'])"
   ]
  },
  {
   "cell_type": "code",
   "execution_count": 214,
   "metadata": {
    "ExecuteTime": {
     "end_time": "2020-02-14T15:53:37.981279Z",
     "start_time": "2020-02-14T15:53:37.966319Z"
    }
   },
   "outputs": [],
   "source": [
    "def fav_rank(row):\n",
    "    if row.PSW <= row.PSL:\n",
    "        return row.WRank\n",
    "    else:\n",
    "        return row.LRank\n",
    "\n",
    "def not_fav_rank(row):\n",
    "    if row.PSW >= row.PSL:\n",
    "        return row.WRank\n",
    "    else:\n",
    "        return row.LRank\n",
    "    \n",
    "def fav_pts(row):\n",
    "    if row.PSW <= row.PSL:\n",
    "        return row.WPts\n",
    "    else:\n",
    "        return row.LPts\n",
    "\n",
    "def not_fav_pts(row):\n",
    "    if row.PSW >= row.PSL:\n",
    "        return row.WPts\n",
    "    else:\n",
    "        return row.LPts"
   ]
  },
  {
   "cell_type": "code",
   "execution_count": 215,
   "metadata": {
    "ExecuteTime": {
     "end_time": "2020-02-14T15:53:41.349853Z",
     "start_time": "2020-02-14T15:53:40.220036Z"
    }
   },
   "outputs": [],
   "source": [
    "X.Fodds = df1[['PSL','PSW']].min(axis=1)\n",
    "X.NFodds = df1[['PSL','PSW']].max(axis=1)\n",
    "X.Frank = df1.apply(fav_rank, axis=1)\n",
    "X.NFrank = df1.apply(not_fav_rank, axis=1)\n",
    "X.Fpts = df1.apply(fav_pts, axis=1)\n",
    "X.NFpts = df1.apply(not_fav_pts, axis=1)\n",
    "\n",
    "y = label_binarize(df1.fav_won, classes=[0,1])"
   ]
  },
  {
   "cell_type": "code",
   "execution_count": 216,
   "metadata": {
    "ExecuteTime": {
     "end_time": "2020-02-14T15:53:41.388667Z",
     "start_time": "2020-02-14T15:53:41.355226Z"
    },
    "scrolled": true
   },
   "outputs": [
    {
     "data": {
      "text/html": [
       "<div>\n",
       "<style scoped>\n",
       "    .dataframe tbody tr th:only-of-type {\n",
       "        vertical-align: middle;\n",
       "    }\n",
       "\n",
       "    .dataframe tbody tr th {\n",
       "        vertical-align: top;\n",
       "    }\n",
       "\n",
       "    .dataframe thead th {\n",
       "        text-align: right;\n",
       "    }\n",
       "</style>\n",
       "<table border=\"1\" class=\"dataframe\">\n",
       "  <thead>\n",
       "    <tr style=\"text-align: right;\">\n",
       "      <th></th>\n",
       "      <th>WRank</th>\n",
       "      <th>LRank</th>\n",
       "      <th>WPts</th>\n",
       "      <th>LPts</th>\n",
       "      <th>PSW</th>\n",
       "      <th>PSL</th>\n",
       "      <th>fav_won</th>\n",
       "    </tr>\n",
       "  </thead>\n",
       "  <tbody>\n",
       "    <tr>\n",
       "      <th>0</th>\n",
       "      <td>275.0</td>\n",
       "      <td>80.0</td>\n",
       "      <td>171</td>\n",
       "      <td>653.0</td>\n",
       "      <td>4.65</td>\n",
       "      <td>1.23</td>\n",
       "      <td>False</td>\n",
       "    </tr>\n",
       "    <tr>\n",
       "      <th>1</th>\n",
       "      <td>15.0</td>\n",
       "      <td>74.0</td>\n",
       "      <td>1925</td>\n",
       "      <td>671.0</td>\n",
       "      <td>1.32</td>\n",
       "      <td>3.71</td>\n",
       "      <td>True</td>\n",
       "    </tr>\n",
       "    <tr>\n",
       "      <th>2</th>\n",
       "      <td>73.0</td>\n",
       "      <td>23.0</td>\n",
       "      <td>685</td>\n",
       "      <td>1630.0</td>\n",
       "      <td>3.29</td>\n",
       "      <td>1.38</td>\n",
       "      <td>False</td>\n",
       "    </tr>\n",
       "    <tr>\n",
       "      <th>3</th>\n",
       "      <td>42.0</td>\n",
       "      <td>52.0</td>\n",
       "      <td>970</td>\n",
       "      <td>900.0</td>\n",
       "      <td>1.70</td>\n",
       "      <td>2.27</td>\n",
       "      <td>True</td>\n",
       "    </tr>\n",
       "    <tr>\n",
       "      <th>4</th>\n",
       "      <td>54.0</td>\n",
       "      <td>85.0</td>\n",
       "      <td>893</td>\n",
       "      <td>630.0</td>\n",
       "      <td>1.41</td>\n",
       "      <td>3.13</td>\n",
       "      <td>True</td>\n",
       "    </tr>\n",
       "  </tbody>\n",
       "</table>\n",
       "</div>"
      ],
      "text/plain": [
       "   WRank  LRank  WPts    LPts   PSW   PSL  fav_won\n",
       "0  275.0   80.0   171   653.0  4.65  1.23    False\n",
       "1   15.0   74.0  1925   671.0  1.32  3.71     True\n",
       "2   73.0   23.0   685  1630.0  3.29  1.38    False\n",
       "3   42.0   52.0   970   900.0  1.70  2.27     True\n",
       "4   54.0   85.0   893   630.0  1.41  3.13     True"
      ]
     },
     "execution_count": 216,
     "metadata": {},
     "output_type": "execute_result"
    }
   ],
   "source": [
    "df1.head()"
   ]
  },
  {
   "cell_type": "code",
   "execution_count": 217,
   "metadata": {
    "ExecuteTime": {
     "end_time": "2020-02-14T15:53:43.741325Z",
     "start_time": "2020-02-14T15:53:43.709415Z"
    },
    "scrolled": false
   },
   "outputs": [
    {
     "data": {
      "text/html": [
       "<div>\n",
       "<style scoped>\n",
       "    .dataframe tbody tr th:only-of-type {\n",
       "        vertical-align: middle;\n",
       "    }\n",
       "\n",
       "    .dataframe tbody tr th {\n",
       "        vertical-align: top;\n",
       "    }\n",
       "\n",
       "    .dataframe thead th {\n",
       "        text-align: right;\n",
       "    }\n",
       "</style>\n",
       "<table border=\"1\" class=\"dataframe\">\n",
       "  <thead>\n",
       "    <tr style=\"text-align: right;\">\n",
       "      <th></th>\n",
       "      <th>Fodds</th>\n",
       "      <th>NFodds</th>\n",
       "      <th>Frank</th>\n",
       "      <th>NFrank</th>\n",
       "      <th>Fpts</th>\n",
       "      <th>NFpts</th>\n",
       "    </tr>\n",
       "  </thead>\n",
       "  <tbody>\n",
       "    <tr>\n",
       "      <th>0</th>\n",
       "      <td>1.23</td>\n",
       "      <td>4.65</td>\n",
       "      <td>80.0</td>\n",
       "      <td>275.0</td>\n",
       "      <td>653.0</td>\n",
       "      <td>171.0</td>\n",
       "    </tr>\n",
       "    <tr>\n",
       "      <th>1</th>\n",
       "      <td>1.32</td>\n",
       "      <td>3.71</td>\n",
       "      <td>15.0</td>\n",
       "      <td>74.0</td>\n",
       "      <td>1925.0</td>\n",
       "      <td>671.0</td>\n",
       "    </tr>\n",
       "    <tr>\n",
       "      <th>2</th>\n",
       "      <td>1.38</td>\n",
       "      <td>3.29</td>\n",
       "      <td>23.0</td>\n",
       "      <td>73.0</td>\n",
       "      <td>1630.0</td>\n",
       "      <td>685.0</td>\n",
       "    </tr>\n",
       "    <tr>\n",
       "      <th>3</th>\n",
       "      <td>1.70</td>\n",
       "      <td>2.27</td>\n",
       "      <td>42.0</td>\n",
       "      <td>52.0</td>\n",
       "      <td>970.0</td>\n",
       "      <td>900.0</td>\n",
       "    </tr>\n",
       "    <tr>\n",
       "      <th>4</th>\n",
       "      <td>1.41</td>\n",
       "      <td>3.13</td>\n",
       "      <td>54.0</td>\n",
       "      <td>85.0</td>\n",
       "      <td>893.0</td>\n",
       "      <td>630.0</td>\n",
       "    </tr>\n",
       "  </tbody>\n",
       "</table>\n",
       "</div>"
      ],
      "text/plain": [
       "   Fodds  NFodds  Frank  NFrank    Fpts  NFpts\n",
       "0   1.23    4.65   80.0   275.0   653.0  171.0\n",
       "1   1.32    3.71   15.0    74.0  1925.0  671.0\n",
       "2   1.38    3.29   23.0    73.0  1630.0  685.0\n",
       "3   1.70    2.27   42.0    52.0   970.0  900.0\n",
       "4   1.41    3.13   54.0    85.0   893.0  630.0"
      ]
     },
     "execution_count": 217,
     "metadata": {},
     "output_type": "execute_result"
    }
   ],
   "source": [
    "X.head()"
   ]
  },
  {
   "cell_type": "code",
   "execution_count": 218,
   "metadata": {
    "ExecuteTime": {
     "end_time": "2020-02-14T15:53:44.677653Z",
     "start_time": "2020-02-14T15:53:44.666700Z"
    }
   },
   "outputs": [
    {
     "data": {
      "text/plain": [
       "array([[0],\n",
       "       [1],\n",
       "       [0],\n",
       "       [1],\n",
       "       [1]])"
      ]
     },
     "execution_count": 218,
     "metadata": {},
     "output_type": "execute_result"
    }
   ],
   "source": [
    "y[:5]"
   ]
  },
  {
   "cell_type": "code",
   "execution_count": 226,
   "metadata": {
    "ExecuteTime": {
     "end_time": "2020-02-14T15:55:31.399767Z",
     "start_time": "2020-02-14T15:55:31.393782Z"
    }
   },
   "outputs": [],
   "source": [
    "y = y.ravel()"
   ]
  },
  {
   "cell_type": "markdown",
   "metadata": {},
   "source": [
    "#### Logistic Regr"
   ]
  },
  {
   "cell_type": "code",
   "execution_count": 227,
   "metadata": {
    "ExecuteTime": {
     "end_time": "2020-02-14T15:55:37.923823Z",
     "start_time": "2020-02-14T15:55:37.915845Z"
    }
   },
   "outputs": [],
   "source": [
    "logreg = LogisticRegression(max_iter=200)"
   ]
  },
  {
   "cell_type": "code",
   "execution_count": 228,
   "metadata": {
    "ExecuteTime": {
     "end_time": "2020-02-14T15:55:39.094648Z",
     "start_time": "2020-02-14T15:55:39.082664Z"
    }
   },
   "outputs": [],
   "source": [
    "X_train, X_test, y_train, y_test = train_test_split(X, y, test_size=0.2, random_state=42)"
   ]
  },
  {
   "cell_type": "code",
   "execution_count": 229,
   "metadata": {
    "ExecuteTime": {
     "end_time": "2020-02-14T15:55:40.156843Z",
     "start_time": "2020-02-14T15:55:40.005736Z"
    }
   },
   "outputs": [
    {
     "data": {
      "text/plain": [
       "LogisticRegression(C=1.0, class_weight=None, dual=False, fit_intercept=True,\n",
       "                   intercept_scaling=1, l1_ratio=None, max_iter=200,\n",
       "                   multi_class='auto', n_jobs=None, penalty='l2',\n",
       "                   random_state=None, solver='lbfgs', tol=0.0001, verbose=0,\n",
       "                   warm_start=False)"
      ]
     },
     "execution_count": 229,
     "metadata": {},
     "output_type": "execute_result"
    }
   ],
   "source": [
    "logreg.fit(X_train, y_train)"
   ]
  },
  {
   "cell_type": "code",
   "execution_count": 230,
   "metadata": {
    "ExecuteTime": {
     "end_time": "2020-02-14T15:55:41.739438Z",
     "start_time": "2020-02-14T15:55:41.725472Z"
    }
   },
   "outputs": [
    {
     "data": {
      "text/plain": [
       "array([[-1.38571360e-01,  1.98053380e-01, -3.09730328e-03,\n",
       "         1.77154816e-03,  1.06517222e-04, -1.03345956e-04]])"
      ]
     },
     "execution_count": 230,
     "metadata": {},
     "output_type": "execute_result"
    }
   ],
   "source": [
    "logreg.coef_"
   ]
  },
  {
   "cell_type": "code",
   "execution_count": 231,
   "metadata": {
    "ExecuteTime": {
     "end_time": "2020-02-14T15:55:45.808519Z",
     "start_time": "2020-02-14T15:55:45.798546Z"
    }
   },
   "outputs": [],
   "source": [
    "y_pred = logreg.predict(X_test)"
   ]
  },
  {
   "cell_type": "code",
   "execution_count": 232,
   "metadata": {
    "ExecuteTime": {
     "end_time": "2020-02-14T15:55:47.106621Z",
     "start_time": "2020-02-14T15:55:47.098626Z"
    }
   },
   "outputs": [
    {
     "name": "stdout",
     "output_type": "stream",
     "text": [
      "0.7007722007722008\n"
     ]
    }
   ],
   "source": [
    "from sklearn import metrics\n",
    "print(metrics.accuracy_score(y_test, y_pred))"
   ]
  },
  {
   "cell_type": "markdown",
   "metadata": {},
   "source": [
    "#### testing su OOS"
   ]
  },
  {
   "cell_type": "code",
   "execution_count": 237,
   "metadata": {
    "ExecuteTime": {
     "end_time": "2020-02-14T16:00:44.527601Z",
     "start_time": "2020-02-14T16:00:42.494997Z"
    }
   },
   "outputs": [],
   "source": [
    "df = pd.read_excel('datasets/2019.xlsx', sep=';')\n",
    "\n",
    "df1 = df[['WRank','LRank','WPts','LPts','PSW','PSL']].copy()\n",
    "df1['fav_won'] = df1.WRank < df1.LRank\n",
    "df1.dropna(inplace=True)"
   ]
  },
  {
   "cell_type": "code",
   "execution_count": 238,
   "metadata": {
    "ExecuteTime": {
     "end_time": "2020-02-14T16:00:46.978935Z",
     "start_time": "2020-02-14T16:00:46.104240Z"
    }
   },
   "outputs": [],
   "source": [
    "X = pd.DataFrame(columns=['Fodds','NFodds','Frank','NFrank','Fpts','NFpts'])\n",
    "X.Fodds = df1[['PSL','PSW']].min(axis=1)\n",
    "X.NFodds = df1[['PSL','PSW']].max(axis=1)\n",
    "X.Frank = df1.apply(fav_rank, axis=1)\n",
    "X.NFrank = df1.apply(not_fav_rank, axis=1)\n",
    "X.Fpts = df1.apply(fav_pts, axis=1)\n",
    "X.NFpts = df1.apply(not_fav_pts, axis=1)\n",
    "\n",
    "y = label_binarize(df1.fav_won, classes=[0,1])\n",
    "y = y.ravel()"
   ]
  },
  {
   "cell_type": "code",
   "execution_count": 239,
   "metadata": {
    "ExecuteTime": {
     "end_time": "2020-02-14T16:01:14.177700Z",
     "start_time": "2020-02-14T16:01:14.163748Z"
    }
   },
   "outputs": [],
   "source": [
    "y_pred = logreg.predict(X)"
   ]
  },
  {
   "cell_type": "code",
   "execution_count": 240,
   "metadata": {
    "ExecuteTime": {
     "end_time": "2020-02-14T16:01:27.273651Z",
     "start_time": "2020-02-14T16:01:27.261683Z"
    }
   },
   "outputs": [
    {
     "name": "stdout",
     "output_type": "stream",
     "text": [
      "0.6281951975213013\n"
     ]
    }
   ],
   "source": [
    "print(metrics.accuracy_score(y, y_pred))"
   ]
  },
  {
   "cell_type": "markdown",
   "metadata": {},
   "source": [
    "## Proviamo a predire"
   ]
  },
  {
   "cell_type": "code",
   "execution_count": 126,
   "metadata": {
    "ExecuteTime": {
     "end_time": "2020-02-14T14:53:59.123728Z",
     "start_time": "2020-02-14T14:53:59.093764Z"
    }
   },
   "outputs": [],
   "source": [
    "rankings = pd.read_csv('datasets/Rankings.csv')"
   ]
  },
  {
   "cell_type": "markdown",
   "metadata": {},
   "source": [
    "Player H"
   ]
  },
  {
   "cell_type": "code",
   "execution_count": 149,
   "metadata": {
    "ExecuteTime": {
     "end_time": "2020-02-14T15:05:43.827716Z",
     "start_time": "2020-02-14T15:05:43.811757Z"
    }
   },
   "outputs": [
    {
     "data": {
      "text/plain": [
       "710"
      ]
     },
     "execution_count": 149,
     "metadata": {},
     "output_type": "execute_result"
    }
   ],
   "source": [
    "rankings[rankings.name.str.contains('Sinner')].points.iloc[0]"
   ]
  },
  {
   "cell_type": "markdown",
   "metadata": {
    "ExecuteTime": {
     "end_time": "2020-02-14T15:06:38.832056Z",
     "start_time": "2020-02-14T15:06:38.821075Z"
    }
   },
   "source": [
    "Player A"
   ]
  },
  {
   "cell_type": "code",
   "execution_count": 150,
   "metadata": {
    "ExecuteTime": {
     "end_time": "2020-02-14T15:06:13.206788Z",
     "start_time": "2020-02-14T15:06:13.190831Z"
    }
   },
   "outputs": [
    {
     "data": {
      "text/plain": [
       "1332"
      ]
     },
     "execution_count": 150,
     "metadata": {},
     "output_type": "execute_result"
    }
   ],
   "source": [
    "rankings[rankings.name.str.contains('busta', case=False)].points.iloc[0]"
   ]
  },
  {
   "cell_type": "code",
   "execution_count": 153,
   "metadata": {
    "ExecuteTime": {
     "end_time": "2020-02-14T15:08:41.090790Z",
     "start_time": "2020-02-14T15:08:41.060885Z"
    }
   },
   "outputs": [
    {
     "data": {
      "text/html": [
       "<div>\n",
       "<style scoped>\n",
       "    .dataframe tbody tr th:only-of-type {\n",
       "        vertical-align: middle;\n",
       "    }\n",
       "\n",
       "    .dataframe tbody tr th {\n",
       "        vertical-align: top;\n",
       "    }\n",
       "\n",
       "    .dataframe thead th {\n",
       "        text-align: right;\n",
       "    }\n",
       "</style>\n",
       "<table border=\"1\" class=\"dataframe\">\n",
       "  <thead>\n",
       "    <tr style=\"text-align: right;\">\n",
       "      <th></th>\n",
       "      <th>rank</th>\n",
       "      <th>name</th>\n",
       "      <th>country_name</th>\n",
       "      <th>country_id</th>\n",
       "      <th>points</th>\n",
       "      <th>bestRank</th>\n",
       "      <th>bestRankDate</th>\n",
       "      <th>rankDiff</th>\n",
       "      <th>pointsDiff</th>\n",
       "      <th>bestPoints</th>\n",
       "    </tr>\n",
       "  </thead>\n",
       "  <tbody>\n",
       "    <tr>\n",
       "      <th>0</th>\n",
       "      <td>1</td>\n",
       "      <td>Novak Djokovic</td>\n",
       "      <td>Serbia</td>\n",
       "      <td>SRB</td>\n",
       "      <td>9720</td>\n",
       "      <td>1</td>\n",
       "      <td>2011-07-04</td>\n",
       "      <td>0.0</td>\n",
       "      <td>0.0</td>\n",
       "      <td>16950</td>\n",
       "    </tr>\n",
       "    <tr>\n",
       "      <th>1</th>\n",
       "      <td>2</td>\n",
       "      <td>Rafael Nadal</td>\n",
       "      <td>Spain</td>\n",
       "      <td>ESP</td>\n",
       "      <td>9395</td>\n",
       "      <td>1</td>\n",
       "      <td>2008-08-18</td>\n",
       "      <td>0.0</td>\n",
       "      <td>0.0</td>\n",
       "      <td>15390</td>\n",
       "    </tr>\n",
       "    <tr>\n",
       "      <th>2</th>\n",
       "      <td>3</td>\n",
       "      <td>Roger Federer</td>\n",
       "      <td>Switzerland</td>\n",
       "      <td>SUI</td>\n",
       "      <td>7130</td>\n",
       "      <td>1</td>\n",
       "      <td>2004-02-02</td>\n",
       "      <td>0.0</td>\n",
       "      <td>0.0</td>\n",
       "      <td>12315</td>\n",
       "    </tr>\n",
       "    <tr>\n",
       "      <th>3</th>\n",
       "      <td>4</td>\n",
       "      <td>Dominic Thiem</td>\n",
       "      <td>Austria</td>\n",
       "      <td>AUT</td>\n",
       "      <td>7045</td>\n",
       "      <td>4</td>\n",
       "      <td>2017-11-06</td>\n",
       "      <td>0.0</td>\n",
       "      <td>0.0</td>\n",
       "      <td>7045</td>\n",
       "    </tr>\n",
       "    <tr>\n",
       "      <th>4</th>\n",
       "      <td>5</td>\n",
       "      <td>Daniil Medvedev</td>\n",
       "      <td>Russian Federation</td>\n",
       "      <td>RUS</td>\n",
       "      <td>5890</td>\n",
       "      <td>4</td>\n",
       "      <td>2019-09-09</td>\n",
       "      <td>0.0</td>\n",
       "      <td>-70.0</td>\n",
       "      <td>5960</td>\n",
       "    </tr>\n",
       "  </tbody>\n",
       "</table>\n",
       "</div>"
      ],
      "text/plain": [
       "   rank             name        country_name country_id  points  bestRank  \\\n",
       "0     1   Novak Djokovic              Serbia        SRB    9720         1   \n",
       "1     2     Rafael Nadal               Spain        ESP    9395         1   \n",
       "2     3    Roger Federer         Switzerland        SUI    7130         1   \n",
       "3     4    Dominic Thiem             Austria        AUT    7045         4   \n",
       "4     5  Daniil Medvedev  Russian Federation        RUS    5890         4   \n",
       "\n",
       "  bestRankDate  rankDiff  pointsDiff  bestPoints  \n",
       "0   2011-07-04       0.0         0.0       16950  \n",
       "1   2008-08-18       0.0         0.0       15390  \n",
       "2   2004-02-02       0.0         0.0       12315  \n",
       "3   2017-11-06       0.0         0.0        7045  \n",
       "4   2019-09-09       0.0       -70.0        5960  "
      ]
     },
     "execution_count": 153,
     "metadata": {},
     "output_type": "execute_result"
    }
   ],
   "source": [
    "rankings.head()"
   ]
  },
  {
   "cell_type": "code",
   "execution_count": null,
   "metadata": {},
   "outputs": [],
   "source": []
  }
 ],
 "metadata": {
  "kernelspec": {
   "display_name": "Python 3",
   "language": "python",
   "name": "python3"
  },
  "language_info": {
   "codemirror_mode": {
    "name": "ipython",
    "version": 3
   },
   "file_extension": ".py",
   "mimetype": "text/x-python",
   "name": "python",
   "nbconvert_exporter": "python",
   "pygments_lexer": "ipython3",
   "version": "3.8.1"
  }
 },
 "nbformat": 4,
 "nbformat_minor": 2
}
