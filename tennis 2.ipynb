{
 "cells": [
  {
   "cell_type": "code",
   "execution_count": 1,
   "metadata": {
    "ExecuteTime": {
     "end_time": "2020-02-10T21:11:01.974847Z",
     "start_time": "2020-02-10T21:11:00.276750Z"
    }
   },
   "outputs": [],
   "source": [
    "import pandas as pd\n",
    "import numpy as np\n",
    "import seaborn as sns"
   ]
  },
  {
   "cell_type": "code",
   "execution_count": 3,
   "metadata": {
    "ExecuteTime": {
     "end_time": "2020-02-10T21:12:49.043971Z",
     "start_time": "2020-02-10T21:12:48.954966Z"
    }
   },
   "outputs": [],
   "source": [
    "atp_matches_2019 = pd.read_csv('datasets/tennis_atp/atp_matches_2019.csv')\n",
    "atp_players = pd.read_csv('datasets/tennis_atp/atp_players.csv')\n",
    "atp_rankings_current = pd.read_csv('datasets/tennis_atp/atp_rankings_current.csv')"
   ]
  },
  {
   "cell_type": "code",
   "execution_count": 7,
   "metadata": {
    "ExecuteTime": {
     "end_time": "2020-02-10T21:14:03.199212Z",
     "start_time": "2020-02-10T21:14:03.194212Z"
    }
   },
   "outputs": [],
   "source": [
    "rome = atp_matches_2019[atp_matches_2019.tourney_name == 'Rome Masters']"
   ]
  },
  {
   "cell_type": "code",
   "execution_count": 9,
   "metadata": {
    "ExecuteTime": {
     "end_time": "2020-02-10T21:14:18.049061Z",
     "start_time": "2020-02-10T21:14:18.043061Z"
    }
   },
   "outputs": [
    {
     "data": {
      "text/plain": [
       "tourney_id                 2019-M009\n",
       "tourney_name            Rome Masters\n",
       "surface                         Clay\n",
       "draw_size                         64\n",
       "tourney_level                      M\n",
       "tourney_date                20190513\n",
       "match_num                        300\n",
       "winner_id                     104745\n",
       "winner_seed                        2\n",
       "winner_entry                     NaN\n",
       "winner_name             Rafael Nadal\n",
       "winner_hand                        L\n",
       "winner_ht                        185\n",
       "winner_ioc                       ESP\n",
       "winner_age                   32.9418\n",
       "loser_id                      104925\n",
       "loser_seed                         1\n",
       "loser_entry                      NaN\n",
       "loser_name            Novak Djokovic\n",
       "loser_hand                         R\n",
       "loser_ht                         188\n",
       "loser_ioc                        SRB\n",
       "loser_age                    31.9754\n",
       "score                    6-0 4-6 6-1\n",
       "best_of                            3\n",
       "round                              F\n",
       "minutes                          145\n",
       "w_ace                              0\n",
       "w_df                               0\n",
       "w_svpt                            66\n",
       "w_1stIn                           48\n",
       "w_1stWon                          35\n",
       "w_2ndWon                          11\n",
       "w_SvGms                           11\n",
       "w_bpSaved                          1\n",
       "w_bpFaced                          2\n",
       "l_ace                              7\n",
       "l_df                               1\n",
       "l_svpt                            96\n",
       "l_1stIn                           72\n",
       "l_1stWon                          43\n",
       "l_2ndWon                           7\n",
       "l_SvGms                           12\n",
       "l_bpSaved                         11\n",
       "l_bpFaced                         17\n",
       "winner_rank                        2\n",
       "winner_rank_points              7945\n",
       "loser_rank                         1\n",
       "loser_rank_points              12115\n",
       "Name: 1096, dtype: object"
      ]
     },
     "execution_count": 9,
     "metadata": {},
     "output_type": "execute_result"
    }
   ],
   "source": [
    "rome.iloc[0]"
   ]
  },
  {
   "cell_type": "code",
   "execution_count": null,
   "metadata": {},
   "outputs": [],
   "source": []
  }
 ],
 "metadata": {
  "kernelspec": {
   "display_name": "Python 3",
   "language": "python",
   "name": "python3"
  },
  "language_info": {
   "codemirror_mode": {
    "name": "ipython",
    "version": 3
   },
   "file_extension": ".py",
   "mimetype": "text/x-python",
   "name": "python",
   "nbconvert_exporter": "python",
   "pygments_lexer": "ipython3",
   "version": "3.7.6"
  }
 },
 "nbformat": 4,
 "nbformat_minor": 2
}
